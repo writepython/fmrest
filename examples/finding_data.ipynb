{
 "cells": [
  {
   "cell_type": "code",
   "execution_count": 1,
   "metadata": {},
   "outputs": [],
   "source": [
    "# hide ssl warnings for this example.\n",
    "import requests\n",
    "requests.packages.urllib3.disable_warnings()"
   ]
  },
  {
   "cell_type": "markdown",
   "metadata": {},
   "source": [
    "# Finding data with python-fmrest"
   ]
  },
  {
   "cell_type": "markdown",
   "metadata": {},
   "source": [
    "This is a short example on finding records with python-fmrest."
   ]
  },
  {
   "cell_type": "code",
   "execution_count": 2,
   "metadata": {},
   "outputs": [],
   "source": [
    "import fmrest"
   ]
  },
  {
   "cell_type": "markdown",
   "metadata": {},
   "source": [
    "## Login"
   ]
  },
  {
   "cell_type": "code",
   "execution_count": 3,
   "metadata": {},
   "outputs": [
    {
     "data": {
      "text/plain": [
       "'be7535da511899c80508391bd7aac69ba1d362f41ae04601aa44'"
      ]
     },
     "execution_count": 3,
     "metadata": {},
     "output_type": "execute_result"
    }
   ],
   "source": [
    "fms = fmrest.Server('https://10.211.55.15',\n",
    "                    user='admin',\n",
    "                    password='admin',\n",
    "                    database='Contacts',\n",
    "                    layout='Demo',\n",
    "                    verify_ssl=False\n",
    "                   )\n",
    "fms.login()"
   ]
  },
  {
   "cell_type": "markdown",
   "metadata": {},
   "source": [
    "## Specify find queries and retrieve foundset and record"
   ]
  },
  {
   "cell_type": "markdown",
   "metadata": {},
   "source": [
    "We want to find records in Contacts where the name field matches 'John Doe'."
   ]
  },
  {
   "cell_type": "code",
   "execution_count": 4,
   "metadata": {},
   "outputs": [
    {
     "data": {
      "text/plain": [
       "<Foundset consumed_records=0 is_complete=False>"
      ]
     },
     "execution_count": 4,
     "metadata": {},
     "output_type": "execute_result"
    }
   ],
   "source": [
    "find_query = [{'name': 'John Doe'}]\n",
    "foundset = fms.find(find_query)\n",
    "foundset"
   ]
  },
  {
   "cell_type": "markdown",
   "metadata": {},
   "source": [
    "We have our foundset and can iterate through it. fetched_records=0 means that we haven't consumed the Foundset yet."
   ]
  },
  {
   "cell_type": "code",
   "execution_count": 5,
   "metadata": {},
   "outputs": [
    {
     "name": "stdout",
     "output_type": "stream",
     "text": [
      "<Record id=44 modification_id=15 is_dirty=False>\n"
     ]
    }
   ],
   "source": [
    "for record in foundset:\n",
    "    print(record)"
   ]
  },
  {
   "cell_type": "code",
   "execution_count": 6,
   "metadata": {},
   "outputs": [
    {
     "data": {
      "text/plain": [
       "<Foundset consumed_records=1 is_complete=True>"
      ]
     },
     "execution_count": 6,
     "metadata": {},
     "output_type": "execute_result"
    }
   ],
   "source": [
    "foundset"
   ]
  },
  {
   "cell_type": "markdown",
   "metadata": {},
   "source": [
    "Looks like Record 44 is our only record in the foundset. Let's look at it:"
   ]
  },
  {
   "cell_type": "code",
   "execution_count": 7,
   "metadata": {},
   "outputs": [
    {
     "name": "stdout",
     "output_type": "stream",
     "text": [
      "['id', 'name', 'drink', 'portrait', 'creation', 'modification', 'recordId', 'modId', 'portal_notes']\n",
      "[44, 'John Doe', 'Pepsi', 'https://10.211.55.15/Streaming_SSL/MainDB/BA6F26FB41282DE2E86C02850A18114E0A3445CD3369319C495061BAD5B791BD.jpg?RCType=EmbeddedRCFileProcessor', '11/05/2017 20:14:18', '11/07/2017 17:30:13', '44', '15', <Foundset consumed_records=0 is_complete=False>]\n"
     ]
    }
   ],
   "source": [
    "record = foundset[0]\n",
    "print(record.keys()) # all the field names on the layout, including portals\n",
    "print(record.values()) # all the value corresponding to the field names"
   ]
  },
  {
   "cell_type": "markdown",
   "metadata": {},
   "source": [
    "Above we can see all available keys and values. If we want to acces a value, we can use the Record's attributes:"
   ]
  },
  {
   "cell_type": "code",
   "execution_count": 8,
   "metadata": {},
   "outputs": [
    {
     "data": {
      "text/plain": [
       "'John Doe'"
      ]
     },
     "execution_count": 8,
     "metadata": {},
     "output_type": "execute_result"
    }
   ],
   "source": [
    "record.name"
   ]
  },
  {
   "cell_type": "code",
   "execution_count": 9,
   "metadata": {},
   "outputs": [
    {
     "data": {
      "text/plain": [
       "'Pepsi'"
      ]
     },
     "execution_count": 9,
     "metadata": {},
     "output_type": "execute_result"
    }
   ],
   "source": [
    "record.drink"
   ]
  },
  {
   "cell_type": "markdown",
   "metadata": {},
   "source": [
    "## Using wildcards"
   ]
  },
  {
   "cell_type": "markdown",
   "metadata": {},
   "source": [
    "The FileMaker Data API supports the same operators FileMaker Pro does. So let's go ahead and broaden our search."
   ]
  },
  {
   "cell_type": "code",
   "execution_count": 10,
   "metadata": {},
   "outputs": [
    {
     "name": "stdout",
     "output_type": "stream",
     "text": [
      "44 John Doe\n",
      "45 John Smith\n"
     ]
    }
   ],
   "source": [
    "find_query = [{'name': 'John*'}]\n",
    "foundset = fms.find(find_query)\n",
    "\n",
    "for record in foundset:\n",
    "    print(record.id, record.name)"
   ]
  },
  {
   "cell_type": "markdown",
   "metadata": {},
   "source": [
    "Using the wildcard we match all the Johns."
   ]
  },
  {
   "cell_type": "markdown",
   "metadata": {},
   "source": [
    "## Multiple find requests"
   ]
  },
  {
   "cell_type": "markdown",
   "metadata": {},
   "source": [
    "Multiple find requests are also supported. Again, just like in FileMaker Pro.\n",
    "\n",
    "Let's find all Johns and Joes, but not John Does."
   ]
  },
  {
   "cell_type": "code",
   "execution_count": 11,
   "metadata": {
    "scrolled": true
   },
   "outputs": [
    {
     "name": "stdout",
     "output_type": "stream",
     "text": [
      "Joe Example\n",
      "John Smith\n"
     ]
    }
   ],
   "source": [
    "find_query = [\n",
    "    {'name': 'John'},\n",
    "    {'name': 'Joe'},\n",
    "    {'name': 'John Doe', 'omit': 'true'}\n",
    "]\n",
    "foundset = fms.find(find_query)\n",
    "\n",
    "for record in foundset:\n",
    "    print(record.name)"
   ]
  },
  {
   "cell_type": "markdown",
   "metadata": {},
   "source": [
    "## Sorting the result"
   ]
  },
  {
   "cell_type": "markdown",
   "metadata": {},
   "source": [
    "You can control the order of the results by specifying the sort parameter."
   ]
  },
  {
   "cell_type": "code",
   "execution_count": 12,
   "metadata": {},
   "outputs": [
    {
     "name": "stdout",
     "output_type": "stream",
     "text": [
      "John Smith\n",
      "Joe Example\n",
      "---\n",
      "Joe Example\n",
      "John Smith\n"
     ]
    }
   ],
   "source": [
    "order_by = [{'fieldName': 'name', 'sortOrder': 'descend'}] #descending\n",
    "foundset = fms.find(find_query, sort=order_by)\n",
    "\n",
    "for record in foundset:\n",
    "    print(record.name)\n",
    "\n",
    "print('---')\n",
    "\n",
    "order_by = [{'fieldName': 'name', 'sortOrder': 'ascend'}] #ascending\n",
    "foundset = fms.find(find_query, sort=order_by)\n",
    "\n",
    "for record in foundset:\n",
    "    print(record.name)"
   ]
  },
  {
   "cell_type": "markdown",
   "metadata": {},
   "source": [
    "## Limiting the result"
   ]
  },
  {
   "cell_type": "markdown",
   "metadata": {},
   "source": [
    "To create more efficient requests, you can limit the data being returned."
   ]
  },
  {
   "cell_type": "markdown",
   "metadata": {},
   "source": [
    "#### Offset"
   ]
  },
  {
   "cell_type": "markdown",
   "metadata": {},
   "source": [
    "Only return from the second record."
   ]
  },
  {
   "cell_type": "code",
   "execution_count": 13,
   "metadata": {},
   "outputs": [
    {
     "name": "stdout",
     "output_type": "stream",
     "text": [
      "John Smith\n"
     ]
    }
   ],
   "source": [
    "foundset = fms.find(find_query, sort=order_by, offset=2)\n",
    "for record in foundset:\n",
    "    print(record.name)"
   ]
  },
  {
   "cell_type": "markdown",
   "metadata": {},
   "source": [
    "#### Limit "
   ]
  },
  {
   "cell_type": "markdown",
   "metadata": {},
   "source": [
    "Only return one record."
   ]
  },
  {
   "cell_type": "code",
   "execution_count": 14,
   "metadata": {},
   "outputs": [
    {
     "data": {
      "text/plain": [
       "'Joe Example'"
      ]
     },
     "execution_count": 14,
     "metadata": {},
     "output_type": "execute_result"
    }
   ],
   "source": [
    "foundset = fms.find(find_query, sort=order_by, limit=1)\n",
    "foundset[0].name"
   ]
  },
  {
   "cell_type": "markdown",
   "metadata": {},
   "source": [
    "Of course, you can combine these parameters as you like. Defaults are offset 1 (which is the first record), limit 100."
   ]
  },
  {
   "cell_type": "markdown",
   "metadata": {},
   "source": [
    "#### Limit data returned by portals"
   ]
  },
  {
   "cell_type": "markdown",
   "metadata": {},
   "source": [
    "By specifying portals, you can prevent certain portal data to be returned, even if portals are present on your layout."
   ]
  },
  {
   "cell_type": "code",
   "execution_count": 15,
   "metadata": {},
   "outputs": [
    {
     "name": "stdout",
     "output_type": "stream",
     "text": [
      "A note for Joe.\n"
     ]
    }
   ],
   "source": [
    "portals = [{'name':'notes', 'offset':1, 'limit': 1}]\n",
    "foundset = fms.find(find_query, portals=portals)\n",
    "\n",
    "for row in foundset[0].portal_notes:\n",
    "    print(row['Notes::note'])"
   ]
  },
  {
   "cell_type": "markdown",
   "metadata": {},
   "source": [
    "The name is the object name as specified in the Inspector in FileMaker Pro. Offset and limit are optional with default values 1 and 50.\n",
    "\n",
    "Not specifying the portals parameter will return all portals on the layout with the default offset and limit."
   ]
  }
 ],
 "metadata": {
  "kernelspec": {
   "display_name": "fmrest venv",
   "language": "python",
   "name": "venv"
  },
  "language_info": {
   "codemirror_mode": {
    "name": "ipython",
    "version": 3
   },
   "file_extension": ".py",
   "mimetype": "text/x-python",
   "name": "python",
   "nbconvert_exporter": "python",
   "pygments_lexer": "ipython3",
   "version": "3.6.2"
  }
 },
 "nbformat": 4,
 "nbformat_minor": 2
}
